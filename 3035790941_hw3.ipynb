{
  "cells": [
    {
      "cell_type": "markdown",
      "metadata": {
        "id": "3f21c64a"
      },
      "source": [
        "# COMP3314 HW3: Image Classification\n",
        "\n",
        "In this project, you could use all the techniques that you learn from this course **(except CNNs)**  to construct an image classifier for the given dataset. You are required to complete the tasks in the following three sections to prepare the dataset, build your classifier, and submit your predictions on the test set.\n",
        "\n",
        "Important notes:\n",
        "- TAs will run the code to check the final results. Please make the code executable and keep your executed outputs. If TAs find the executed result does not match the final submission, this submission will receive 0 points.\n",
        "- Do not use convolutional neural networks (CNNs) in this project.\n",
        "- Make sure to submit the file in the specified format. Otherwiser, our autograder will not be able to verify your results.\n",
        "- Do not use any additional datasets or pretrained networks in this project. Do not copy the code or prediction results from others."
      ],
      "id": "3f21c64a"
    },
    {
      "cell_type": "code",
      "execution_count": 9,
      "metadata": {
        "id": "uExwmued_7JX",
        "colab": {
          "base_uri": "https://localhost:8080/"
        },
        "outputId": "30594e94-9d73-4b37-e918-7af98b2ce107"
      },
      "outputs": [
        {
          "output_type": "stream",
          "name": "stdout",
          "text": [
            "Looking in indexes: https://pypi.org/simple, https://us-python.pkg.dev/colab-wheels/public/simple/\n",
            "Requirement already satisfied: pyprind in /usr/local/lib/python3.8/dist-packages (2.11.3)\n"
          ]
        }
      ],
      "source": [
        "!pip install pyprind"
      ],
      "id": "uExwmued_7JX"
    },
    {
      "cell_type": "markdown",
      "metadata": {
        "id": "62a018f7"
      },
      "source": [
        "## Section 0. Download dataset."
      ],
      "id": "62a018f7"
    },
    {
      "cell_type": "code",
      "execution_count": 10,
      "metadata": {
        "id": "f26b1870"
      },
      "outputs": [],
      "source": [
        "import cv2\n",
        "import os\n",
        "import random\n",
        "import numpy as np\n",
        "import pandas as pd\n",
        "from pathlib import Path\n",
        "import urllib.request\n",
        "import zipfile\n",
        "import urllib\n",
        "import hashlib\n",
        "from tqdm import tqdm\n",
        "import pyprind\n",
        "import matplotlib.pyplot as plt\n",
        "import seaborn as sns\n",
        "\n",
        "\n",
        "random.seed(0)\n",
        "np.random.seed(0)"
      ],
      "id": "f26b1870"
    },
    {
      "cell_type": "code",
      "execution_count": 5,
      "metadata": {
        "id": "75d0d54a",
        "colab": {
          "base_uri": "https://localhost:8080/"
        },
        "outputId": "c9a9d122-5372-4753-8ece-f02eab352d54"
      },
      "outputs": [
        {
          "output_type": "stream",
          "name": "stdout",
          "text": [
            "data/data.zip exists and MD5 matches. Skip download.\n",
            "Extracting...\n",
            "Extracting done.\n"
          ]
        },
        {
          "output_type": "stream",
          "name": "stderr",
          "text": [
            "Read train: 100%|██████████| 50000/50000 [00:03<00:00, 12694.44it/s]\n",
            "Read test: 100%|██████████| 10000/10000 [00:00<00:00, 13000.66it/s]\n"
          ]
        },
        {
          "output_type": "stream",
          "name": "stdout",
          "text": [
            "xs_train:  (50000, 32, 32, 3)\n",
            "ys_train:  (50000,)\n",
            "xs_test:  (10000, 32, 32, 3)\n"
          ]
        }
      ],
      "source": [
        "def download_data(data_dir):\n",
        "    \"\"\"\n",
        "    DO NOT modify the code in this cell.\n",
        "    \n",
        "    Args:\n",
        "        data_dir (Path): Path to the download and extract data directory.\n",
        "\n",
        "    Returns:\n",
        "        xs_train: (num_train, 32, 32, 3) uint8\n",
        "        ys_train: (num_train, ) uint8\n",
        "        xs_test: (num_test, 32, 32, 3) uint8\n",
        "    \"\"\"\n",
        "\n",
        "    class DownloadProgressBar(tqdm):\n",
        "\n",
        "        def update_to(self, b=1, bsize=1, tsize=None):\n",
        "            if tsize is not None:\n",
        "                self.total = tsize\n",
        "            self.update(b * bsize - self.n)\n",
        "\n",
        "    def compute_md5(file_path):\n",
        "        file_path = Path(file_path)\n",
        "        if not file_path.is_file():\n",
        "            raise ValueError(f\"File {file_path} does not exist.\")\n",
        "\n",
        "        with open(file_path, \"rb\") as f:\n",
        "            file_hash = hashlib.md5()\n",
        "            chunk = f.read(8192)\n",
        "            while chunk:\n",
        "                file_hash.update(chunk)\n",
        "                chunk = f.read(8192)\n",
        "\n",
        "        return str(file_hash.hexdigest())\n",
        "\n",
        "    def maybe_download_url(url, output_path, md5sum=None):\n",
        "        output_path = Path(output_path)\n",
        "\n",
        "        if output_path.is_file() and md5sum is not None:\n",
        "            if compute_md5(output_path) == md5sum:\n",
        "                print(f\"{output_path} exists and MD5 matches. Skip download.\")\n",
        "                return\n",
        "\n",
        "        with DownloadProgressBar(unit='B',\n",
        "                                 unit_scale=True,\n",
        "                                 miniters=1,\n",
        "                                 desc=url.split('/')[-1]) as t:\n",
        "            urllib.request.urlretrieve(url,\n",
        "                                       filename=output_path,\n",
        "                                       reporthook=t.update_to)\n",
        "\n",
        "    # Paths\n",
        "    data_dir = Path(data_dir)\n",
        "    data_dir.mkdir(parents=True, exist_ok=True)\n",
        "    zip_path = data_dir / \"data.zip\"\n",
        "    url = \"https://github.com/comp3314/hw3-data/releases/download/hw3/data.zip\"\n",
        "    md5sum = \"bd4f13ea7b8d9b79c1320fe559698dbd\"\n",
        "\n",
        "    # Download URL\n",
        "    maybe_download_url(url, zip_path, md5sum=md5sum)\n",
        "\n",
        "    # Extract zip\n",
        "    print(\"Extracting...\")\n",
        "    with zipfile.ZipFile(zip_path, 'r') as f:\n",
        "        f.extractall(data_dir)\n",
        "    print(\"Extracting done.\")\n",
        "\n",
        "\n",
        "def load_data(data_dir):\n",
        "    data_dir = Path(data_dir)\n",
        "    if not data_dir.is_dir():\n",
        "        raise ValueError(f\"{data_dir} is not a directory.\")\n",
        "\n",
        "    # Read train\n",
        "    train_dir = data_dir / \"train\"\n",
        "    train_label_path = train_dir / \"labels.txt\"\n",
        "    xs_train = []\n",
        "    ys_train = []\n",
        "    with open(train_label_path, \"r\") as f:\n",
        "        lines = f.readlines()\n",
        "        lines = [line.strip() for line in lines]\n",
        "    for line in tqdm(lines, desc=\"Read train\"):\n",
        "        im_path, im_label = line.split(\" \")\n",
        "        im_path = train_dir / im_path\n",
        "        im_bgr = cv2.imread(str(im_path))\n",
        "        im_rgb = cv2.cvtColor(im_bgr, cv2.COLOR_BGR2RGB)\n",
        "        assert im_rgb.shape == (32, 32, 3)\n",
        "        assert im_rgb.dtype == np.uint8\n",
        "        xs_train.append(im_rgb)\n",
        "        ys_train.append(int(im_label))\n",
        "\n",
        "    # Read test\n",
        "    test_dir = data_dir / \"test\"\n",
        "    test_label_path = test_dir / \"labels.txt\"\n",
        "    xs_test = []\n",
        "    with open(test_label_path, \"r\") as f:\n",
        "        lines = f.readlines()\n",
        "        lines = [line.strip() for line in lines]\n",
        "    for line in tqdm(lines, desc=\"Read test\"):\n",
        "        im_path = line\n",
        "        im_path = test_dir / im_path\n",
        "        im_bgr = cv2.imread(str(im_path))\n",
        "        im_rgb = cv2.cvtColor(im_bgr, cv2.COLOR_BGR2RGB)\n",
        "        assert im_rgb.shape == (32, 32, 3)\n",
        "        assert im_rgb.dtype == np.uint8\n",
        "        xs_test.append(im_rgb)\n",
        "\n",
        "    xs_train = np.array(xs_train, dtype=np.uint8)\n",
        "    ys_train = np.array(ys_train)\n",
        "    xs_test = np.array(xs_test, dtype=np.uint8)\n",
        "\n",
        "    return xs_train, ys_train, xs_test\n",
        "\n",
        "data_dir=\"data\"\n",
        "download_data(data_dir=data_dir)\n",
        "xs_train, ys_train, xs_test = load_data(data_dir=data_dir)\n",
        "\n",
        "xs_train = np.array(xs_train)\n",
        "ys_train = np.array(ys_train)\n",
        "xs_test = np.array(xs_test)\n",
        "\n",
        "print('xs_train: ', xs_train.shape)\n",
        "print('ys_train: ', ys_train.shape)\n",
        "print('xs_test: ', xs_test.shape)"
      ],
      "id": "75d0d54a"
    },
    {
      "cell_type": "markdown",
      "metadata": {
        "id": "7ddc5068"
      },
      "source": [
        "## Section 1. Dataset preparation. (10 Points)\n",
        "\n",
        "Before dealing with a new dataset, it is important to know the basic information of the data. "
      ],
      "id": "7ddc5068"
    },
    {
      "cell_type": "markdown",
      "metadata": {
        "id": "dfc37567"
      },
      "source": [
        "### Section 1.1. How many categories does this dataset cover? (2 points)"
      ],
      "id": "dfc37567"
    },
    {
      "cell_type": "code",
      "execution_count": null,
      "metadata": {
        "colab": {
          "base_uri": "https://localhost:8080/"
        },
        "id": "f6e88256",
        "outputId": "4c1fdaaa-92e9-4e12-892c-787784b6b683"
      },
      "outputs": [
        {
          "output_type": "stream",
          "name": "stdout",
          "text": [
            "[0 1 2 3 4 5 6 7 8 9]\n",
            "This database totally covoered 10 categories.\n"
          ]
        }
      ],
      "source": [
        "# === Your code here ===\n",
        "print(np.unique(ys_train))\n",
        "print(\"This database totally covoered %d categories.\" % len(np.unique(ys_train)))\n",
        "# ======================"
      ],
      "id": "f6e88256"
    },
    {
      "cell_type": "markdown",
      "metadata": {
        "id": "3b81de90"
      },
      "source": [
        "### Section 1.2. How many train/test samples does each category contain? (3 points)"
      ],
      "id": "3b81de90"
    },
    {
      "cell_type": "code",
      "execution_count": null,
      "metadata": {
        "colab": {
          "base_uri": "https://localhost:8080/"
        },
        "id": "63592b5c",
        "outputId": "04e9768c-cf87-45df-da46-295b20cbaf56"
      },
      "outputs": [
        {
          "output_type": "stream",
          "name": "stdout",
          "text": [
            "There are 5000 samples in train data for category 0.\n",
            "There are 5000 samples in train data for category 1.\n",
            "There are 5000 samples in train data for category 2.\n",
            "There are 5000 samples in train data for category 3.\n",
            "There are 5000 samples in train data for category 4.\n",
            "There are 5000 samples in train data for category 5.\n",
            "There are 5000 samples in train data for category 6.\n",
            "There are 5000 samples in train data for category 7.\n",
            "There are 5000 samples in train data for category 8.\n",
            "There are 5000 samples in train data for category 9.\n",
            "For test sample, the category distribution should be unknown.\n"
          ]
        }
      ],
      "source": [
        "# === Your code here ===\n",
        "for i in np.unique(ys_train):\n",
        "    print(\"There are %d samples in train data for category %d.\" %(np.sum(ys_train == i),i))\n",
        "\n",
        "print(\"For test sample, the category distribution should be unknown.\")\n",
        "# ======================"
      ],
      "id": "63592b5c"
    },
    {
      "cell_type": "markdown",
      "metadata": {
        "id": "b7df3d7a"
      },
      "source": [
        "### Section 1.3. Visualize one sample for each category. (5 points)"
      ],
      "id": "b7df3d7a"
    },
    {
      "cell_type": "code",
      "execution_count": null,
      "metadata": {
        "colab": {
          "base_uri": "https://localhost:8080/",
          "height": 257
        },
        "id": "3e536c37",
        "outputId": "5d08bbd0-003b-4f55-baaa-31013fb52392"
      },
      "outputs": [
        {
          "output_type": "display_data",
          "data": {
            "text/plain": [
              "<Figure size 432x288 with 10 Axes>"
            ],
            "image/png": "[encoded data removed]"
          },
          "metadata": {
            "needs_background": "light"
          }
        }
      ],
      "source": [
        "# === Your code here ===\n",
        "\n",
        "# param: \n",
        "#   (int) ver : the version of sample\n",
        "def plotImage(xs,ys, ver = 0):\n",
        "    fig, axs = plt.subplots(2,5)\n",
        "\n",
        "    row, col = 0,0\n",
        "    for category_target in np.unique(ys):\n",
        "        ver_count = 0\n",
        "        for i, category in enumerate(ys):\n",
        "                if category_target == category:\n",
        "                    if(ver == ver_count):\n",
        "                        axs[row, col].imshow(xs[i,:,:,:])\n",
        "                        axs[row, col].axis('off')\n",
        "                        axs[row,col].set_title(str(category_target))\n",
        "                        if(col == 4):\n",
        "                            col = 0\n",
        "                            row += 1\n",
        "                        elif(col != 4):\n",
        "                            col += 1\n",
        "                        break\n",
        "                    elif(ver != ver_count):\n",
        "                        ver_count += 1\n",
        "    plt.suptitle(\"sample visualization for each category\")\n",
        "    plt.show()\n",
        "plotImage(xs_train,ys_train, ver = 10)            \n",
        "# ======================"
      ],
      "id": "3e536c37"
    },
    {
      "cell_type": "markdown",
      "metadata": {
        "id": "0c937299"
      },
      "source": [
        "## Section 2.  Controlled experiments. (30 Points)\n",
        "\n",
        "You are required to perform 3 controlled experiments. There are many aspects that you could explore in the controlled experiments, for example:\n",
        "\n",
        "- Comparisons for different classifiers. \n",
        "- Tuning a hyper-parameter for a specific classifier.\n",
        "- Different pre-processing methods, like normalization, extracting the edge features, grayscale, etc.   \n",
        "- Ensembling, boosting, or voting methods.\n",
        "- ...\n",
        "\n",
        "You are required to explore at least 3 aspects. For each experiment, you should add a subsection in a text cell, and briefly explain your experimental results. To verify your results, you should split the validation set by yourself to carry out experiments to find out the best settings."
      ],
      "id": "0c937299"
    },
    {
      "cell_type": "markdown",
      "metadata": {
        "id": "31648ba9"
      },
      "source": [
        "### Section 2.1. Controlled experiment I. (10 points)"
      ],
      "id": "31648ba9"
    },
    {
      "cell_type": "code",
      "execution_count": 20,
      "metadata": {
        "id": "26d587f8",
        "colab": {
          "base_uri": "https://localhost:8080/"
        },
        "outputId": "e7dcb243-41f6-427f-ed04-677ce5ec7b4c"
      },
      "outputs": [
        {
          "output_type": "stream",
          "name": "stderr",
          "text": [
            "/usr/local/lib/python3.8/dist-packages/sklearn/linear_model/_sag.py:352: ConvergenceWarning: The max_iter was reached which means the coef_ did not converge\n",
            "  warnings.warn(\n"
          ]
        },
        {
          "output_type": "stream",
          "name": "stdout",
          "text": [
            "{'Logistic': [0.4043], 'RandomForest': [0.4576], 'DecisionTree': [0.2609]}\n"
          ]
        }
      ],
      "source": [
        "# === Your code here ===\n",
        "# Objective : compare different classification models\n",
        "# Result : Among Logistic Regression, RandomForestClassifier, DecisionTreeClassifier, RandomForestClassifier performed the best accuracy as\n",
        "from sklearn.preprocessing import StandardScaler\n",
        "from sklearn.model_selection import StratifiedKFold\n",
        "from sklearn.model_selection import train_test_split\n",
        "from sklearn.linear_model import LogisticRegression\n",
        "from sklearn.tree import DecisionTreeClassifier\n",
        "from sklearn.ensemble import RandomForestClassifier\n",
        "from sklearn.ensemble import GradientBoostingClassifier\n",
        "\n",
        "xs_train_re = np.reshape(xs_train,(xs_train.shape[0], 32*32*3))\n",
        "xs_test_re = np.reshape(xs_test,(xs_test.shape[0], 32*32*3))\n",
        "\n",
        "xs_train_norm = xs_train_re / np.max(xs_train)\n",
        "xs_test_norm = xs_test_re / np.max(xs_test)\n",
        "\n",
        "xi_train, xi_valid, yi_train, yi_valid = train_test_split(xs_train_norm,ys_train, test_size = 0.2, stratify = ys_train, random_state = 3314)\n",
        "\n",
        "scores = dict()\n",
        "clf1 = LogisticRegression(penalty = 'l2',multi_class = 'multinomial', solver = 'saga')\n",
        "clf2 = RandomForestClassifier()\n",
        "clf3 = DecisionTreeClassifier()\n",
        "\n",
        "clfs = [clf1,clf2,clf3]\n",
        "names = [\"Logistic\", \"RandomForest\",\"DecisionTree\"]\n",
        "\n",
        "for name, clf in zip(names,clfs):\n",
        "    clf.fit(xi_train,yi_train)\n",
        "    if(name in scores.keys()):\n",
        "        scores[name].append(clf.score(xi_valid,yi_valid))\n",
        "    else:\n",
        "        scores[name] = [clf.score(xi_valid,yi_valid)]\n",
        "\n",
        "print(scores)\n",
        "# ======================"
      ],
      "id": "26d587f8"
    },
    {
      "cell_type": "markdown",
      "metadata": {
        "id": "e1d0fe4f"
      },
      "source": [
        "### Section 2.2. Controlled experiment II. (10 points)"
      ],
      "id": "e1d0fe4f"
    },
    {
      "cell_type": "code",
      "execution_count": null,
      "metadata": {
        "colab": {
          "base_uri": "https://localhost:8080/"
        },
        "id": "583c4fc4",
        "outputId": "98c64ab1-a6fc-4716-d555-925ba63e6a27"
      },
      "outputs": [
        {
          "name": "stdout",
          "output_type": "stream",
          "text": [
            "Fitting 2 folds for each of 3 candidates, totalling 6 fits\n",
            "{'classifier': LogisticRegression(C=1, multi_class='multinomial', solver='saga'), 'classifier__C': 1}\n"
          ]
        },
        {
          "name": "stderr",
          "output_type": "stream",
          "text": [
            "/usr/local/lib/python3.8/dist-packages/sklearn/linear_model/_sag.py:352: ConvergenceWarning: The max_iter was reached which means the coef_ did not converge\n",
            "  warnings.warn(\n"
          ]
        }
      ],
      "source": [
        "# === Your code here ===\n",
        "# Tuning hyper-parameter for a specific classifier.\n",
        "# result for Logistic Regression classification model, the best parameter C is 1\n",
        "from sklearn.linear_model import LogisticRegression\n",
        "from sklearn.model_selection import GridSearchCV\n",
        "from sklearn.model_selection import train_test_split\n",
        "from sklearn.pipeline import Pipeline\n",
        "\n",
        "xs_train_re = np.reshape(xs_train,(xs_train.shape[0], 32*32*3))\n",
        "xs_test_re = np.reshape(xs_test,(xs_test.shape[0], 32*32*3))\n",
        "\n",
        "xs_train_norm = xs_train_re / np.max(xs_train)\n",
        "\n",
        "xi_train, xi_valid, yi_train, yi_valid = train_test_split(xs_train_norm,ys_train, test_size = 0.2, stratify = ys_train, random_state = 3314)\n",
        "\n",
        "clf = LogisticRegression(penalty = 'l2',multi_class = 'multinomial', solver = 'saga')\n",
        "param = {'classifier__C': [1e-4,1,1e4],\n",
        "         'classifier': [clf]}\n",
        "pipeline = Pipeline([('classifier', clf)])\n",
        "gs = GridSearchCV(pipeline, param, cv = 2, n_jobs = -1, scoring = 'accuracy', verbose = 1).fit(xi_train, yi_train)\n",
        "print(gs.best_params_)\n",
        "# ======================"
      ],
      "id": "583c4fc4"
    },
    {
      "cell_type": "code",
      "execution_count": null,
      "metadata": {
        "colab": {
          "base_uri": "https://localhost:8080/"
        },
        "id": "ClbFP63Ng7iX",
        "outputId": "38ed5282-40f2-41ad-c589-db8a96563064"
      },
      "outputs": [
        {
          "name": "stdout",
          "output_type": "stream",
          "text": [
            "{'classifier': LogisticRegression(C=1, multi_class='multinomial', solver='saga'), 'classifier__C': 1}\n",
            "0.38617500000000005\n"
          ]
        }
      ],
      "source": [
        "print(gs.best_params_)\n",
        "print(gs.best_score_)"
      ],
      "id": "ClbFP63Ng7iX"
    },
    {
      "cell_type": "markdown",
      "metadata": {
        "id": "1b4cf483"
      },
      "source": [
        "### Section 2.3. Controlled experiment III. (10 points)"
      ],
      "id": "1b4cf483"
    },
    {
      "cell_type": "code",
      "execution_count": null,
      "metadata": {
        "colab": {
          "base_uri": "https://localhost:8080/"
        },
        "id": "dff113dd",
        "outputId": "2c217db0-c06c-4305-ab99-a22d81a73477"
      },
      "outputs": [
        {
          "name": "stderr",
          "output_type": "stream",
          "text": [
            "/usr/local/lib/python3.8/dist-packages/sklearn/linear_model/_sag.py:352: ConvergenceWarning: The max_iter was reached which means the coef_ did not converge\n",
            "  warnings.warn(\n"
          ]
        },
        {
          "name": "stdout",
          "output_type": "stream",
          "text": [
            "{'norm': [0.4038], 'std': [0.3918]}\n"
          ]
        },
        {
          "name": "stderr",
          "output_type": "stream",
          "text": [
            "/usr/local/lib/python3.8/dist-packages/sklearn/linear_model/_sag.py:352: ConvergenceWarning: The max_iter was reached which means the coef_ did not converge\n",
            "  warnings.warn(\n"
          ]
        }
      ],
      "source": [
        "# === Your code here ===\n",
        "# Objective of #1 experiment : compare accuracy result between normalization and standardization preprocessing method\n",
        "# Result : normalization data performed greater accuracy\n",
        "from sklearn.preprocessing import StandardScaler\n",
        "from sklearn.model_selection import StratifiedKFold\n",
        "from sklearn.model_selection import train_test_split\n",
        "from sklearn.linear_model import LogisticRegression\n",
        "\n",
        "xs_train_re = np.reshape(xs_train,(xs_train.shape[0], 32*32*3))\n",
        "xs_test_re = np.reshape(xs_test,(xs_test.shape[0], 32*32*3))\n",
        "\n",
        "xs_train_norm = xs_train_re / np.max(xs_train)\n",
        "xs_test_norm = xs_test_re / np.max(xs_test)\n",
        "\n",
        "scaler = StandardScaler()\n",
        "xs_train_std = scaler.fit_transform(xs_train_re)\n",
        "xs_test_std = scaler.transform(xs_test_re)\n",
        "\n",
        "names = [\"norm\", \"std\"]\n",
        "X_train = [xs_train_norm, xs_train_std]\n",
        "X_test = [xs_test_norm, xs_test_std]\n",
        "\n",
        "scores = dict()\n",
        "for name, x_train,x_test in zip(names, X_train, X_test):\n",
        "\n",
        "    xi_train, xi_valid, yi_train, yi_valid = train_test_split(x_train,ys_train, test_size = 0.2, stratify = ys_train, random_state = 3314)\n",
        "    clf = LogisticRegression(penalty = 'l2', C = 1e4, multi_class = 'multinomial', solver = 'saga')\n",
        "    clf.fit(xi_train,yi_train)\n",
        "    if(name in scores.keys()):\n",
        "        scores[name].append(clf.score(xi_valid,yi_valid))\n",
        "    else:\n",
        "        scores[name] = [clf.score(xi_valid,yi_valid)]\n",
        "\n",
        "print(scores)\n",
        "# ======================"
      ],
      "id": "dff113dd"
    },
    {
      "cell_type": "markdown",
      "metadata": {
        "id": "952de7c6"
      },
      "source": [
        "## Section 3. Your final model. (10 Points)\n",
        "\n",
        "This is the most important part of this project. You can use all your findings in the experiments above and with other techniques to build your final image classification model. This model will be used to predic the official test set for submission."
      ],
      "id": "952de7c6"
    },
    {
      "cell_type": "code",
      "execution_count": 7,
      "metadata": {
        "id": "f443f932"
      },
      "outputs": [],
      "source": [
        "# === Your code here ===\n",
        "from sklearn.preprocessing import StandardScaler\n",
        "from sklearn.model_selection import StratifiedKFold\n",
        "from sklearn.model_selection import train_test_split\n",
        "from sklearn.linear_model import LogisticRegression\n",
        "from sklearn.neighbors import KNeighborsClassifier\n",
        "from sklearn.ensemble import RandomForestClassifier\n",
        "from sklearn.ensemble import GradientBoostingClassifier\n",
        "from sklearn.neural_network import MLPClassifier\n",
        "from sklearn.pipeline import Pipeline\n",
        "from sklearn.model_selection import GridSearchCV\n",
        "\n",
        "\n",
        "clf1 = LogisticRegression(penalty = 'l2', random_state = 3314, solver = 'saga', max_iter = 100, multi_class = 'multinomial')\n",
        "clf2 = KNeighborsClassifier()\n",
        "clf3 = RandomForestClassifier(random_state = 3314)\n",
        "clf4 = MLPClassifier(random_state = 3314)\n",
        "\n",
        "param1 = {'classifier__C': [1 * (10 ** i) for i in range(-4,4,2)],\n",
        "          'classifier': [clf1]}\n",
        "\n",
        "param2 = {'classifier__n_neighbors': [10,30,50],\n",
        "          'classifier': [clf2]}\n",
        "\n",
        "param2_best = {'classifier__n_neighbors': [10,30,50],\n",
        "          'classifier': [clf2]}\n",
        "\n",
        "param3 = {'classifier__n_estimators': [100,150,200],\n",
        "          'classifier__max_depth': [10,25,50],\n",
        "          'classifier': [clf3]}\n",
        "\n",
        "param3_best = {'classifier__n_estimators': [200],\n",
        "          'classifier__max_depth': [25],\n",
        "          'classifier': [clf3]}\n",
        "\n",
        "param4 = {'classifier__hidden_layer_sizes': [(100,),(50,100,),(50,100,150)],\n",
        "         'classifier__activation': ['relu'],\n",
        "         'classifier__solver': ['sgd','adam'],\n",
        "         'classifier__alpha': [0.5],\n",
        "         'classifier__learning_rate' :['constant'],\n",
        "         'classifier__max_iter': [1000],\n",
        "         'classifier' : [clf4]}\n",
        "\n",
        "\n",
        "params = [param1, param2, param3, param4]\n",
        "names = [\"LogisticRegression\", \"K-Neighbors\",\"RandomForest\", \"MultilayerPerceptron\"]\n",
        "clfs = [clf1, clf2, clf3, clf4]\n",
        "\n",
        "best_params = dict()\n",
        "best_scores = dict()\n",
        "y_valid_preds = dict()\n",
        "\n",
        "xs_train_re = np.reshape(xs_train,(xs_train.shape[0], 32*32*3))\n",
        "xs_test_re = np.reshape(xs_test,(xs_test.shape[0], 32*32*3))\n",
        "\n",
        "xs_train_norm = xs_train_re / np.max(xs_train)\n",
        "xs_test_norm = xs_test_re / np.max(xs_test)\n",
        "\n",
        "xi_train, xi_valid, yi_train, yi_valid = train_test_split(xs_train_norm,ys_train, test_size = 0.2, stratify = ys_train, random_state = 3314)\n",
        "\n",
        "clf1_best = LogisticRegression(C = 0.01, penalty = 'l2', random_state = 3314, solver = 'saga', max_iter = 100, multi_class = 'multinomial')\n",
        "clf2_best = KNeighborsClassifier(n_neighbors = 10)\n",
        "clf3_best = RandomForestClassifier(random_state = 3314, max_depth = 25, n_estimators = 200)\n",
        "clf5_best = MLPClassifier(alpha=0.5, hidden_layer_sizes=(100,), max_iter=1000,\n",
        "                random_state=3314, solver='sgd')\n",
        "\n",
        "# ======================"
      ],
      "id": "f443f932"
    },
    {
      "cell_type": "code",
      "execution_count": 8,
      "metadata": {
        "colab": {
          "base_uri": "https://localhost:8080/"
        },
        "id": "plfchIrm4Prs",
        "outputId": "8dbbbbb9-74b7-435e-d5cf-4944c42b3d3f"
      },
      "outputs": [
        {
          "metadata": {
            "tags": null
          },
          "name": "stdout",
          "output_type": "stream",
          "text": [
            "Fitting 2 folds for each of 4 candidates, totalling 8 fits\n",
            "Fitting 2 folds for each of 3 candidates, totalling 6 fits\n"
          ]
        },
        {
          "metadata": {
            "tags": null
          },
          "name": "stderr",
          "output_type": "stream",
          "text": [
            "/usr/local/lib/python3.8/dist-packages/joblib/externals/loky/process_executor.py:700: UserWarning: A worker stopped while some jobs were given to the executor. This can be caused by a too short worker timeout or by a memory leak.\n",
            "  warnings.warn(\n"
          ]
        },
        {
          "metadata": {
            "tags": null
          },
          "name": "stdout",
          "output_type": "stream",
          "text": [
            "Fitting 2 folds for each of 9 candidates, totalling 18 fits\n",
            "Fitting 2 folds for each of 6 candidates, totalling 12 fits\n"
          ]
        }
      ],
      "source": [
        "for name, clf, param in zip(names,clfs, params):\n",
        "    pipeline = Pipeline([('classifier', clf)])\n",
        "    gs = GridSearchCV(pipeline, param, cv = 2, n_jobs = -1, scoring = 'accuracy', verbose = 1).fit(xi_train, yi_train)\n",
        "    best_params[name] = gs.best_params_\n",
        "    best_scores[name] = gs.score(xi_valid, yi_valid)\n",
        "    y_valid_preds[name] = gs.predict(xi_valid)"
      ],
      "id": "plfchIrm4Prs"
    },
    {
      "cell_type": "code",
      "execution_count": 11,
      "metadata": {
        "colab": {
          "base_uri": "https://localhost:8080/"
        },
        "id": "2Tgh4f_GufNq",
        "outputId": "7b004cd2-3d3e-44b2-c08f-cd150af1fccb"
      },
      "outputs": [
        {
          "output_type": "execute_result",
          "data": {
            "text/plain": [
              "{'LogisticRegression': {'classifier': LogisticRegression(C=0.01, multi_class='multinomial', random_state=3314,\n",
              "                     solver='saga'), 'classifier__C': 0.01},\n",
              " 'K-Neighbors': {'classifier': KNeighborsClassifier(n_neighbors=10),\n",
              "  'classifier__n_neighbors': 10},\n",
              " 'RandomForest': {'classifier': RandomForestClassifier(max_depth=25, n_estimators=200, random_state=3314),\n",
              "  'classifier__max_depth': 25,\n",
              "  'classifier__n_estimators': 200},\n",
              " 'MultilayerPerceptron': {'classifier': MLPClassifier(alpha=0.5, max_iter=1000, random_state=3314, solver='sgd'),\n",
              "  'classifier__activation': 'relu',\n",
              "  'classifier__alpha': 0.5,\n",
              "  'classifier__hidden_layer_sizes': (100,),\n",
              "  'classifier__learning_rate': 'constant',\n",
              "  'classifier__max_iter': 1000,\n",
              "  'classifier__solver': 'sgd'}}"
            ]
          },
          "metadata": {},
          "execution_count": 11
        }
      ],
      "source": [
        "best_params"
      ],
      "id": "2Tgh4f_GufNq"
    },
    {
      "cell_type": "code",
      "execution_count": 16,
      "metadata": {
        "id": "doftg2hDrn-v",
        "colab": {
          "base_uri": "https://localhost:8080/"
        },
        "outputId": "304c47a3-5c66-4157-cb82-10518b723d89"
      },
      "outputs": [
        {
          "output_type": "execute_result",
          "data": {
            "text/plain": [
              "{'classifier': MLPClassifier(alpha=0.5, max_iter=1000, random_state=3314, solver='sgd'),\n",
              " 'classifier__activation': 'relu',\n",
              " 'classifier__alpha': 0.5,\n",
              " 'classifier__hidden_layer_sizes': (100,),\n",
              " 'classifier__learning_rate': 'constant',\n",
              " 'classifier__max_iter': 1000,\n",
              " 'classifier__solver': 'sgd'}"
            ]
          },
          "metadata": {},
          "execution_count": 16
        }
      ],
      "source": [
        "gs.best_params_"
      ],
      "id": "doftg2hDrn-v"
    },
    {
      "cell_type": "code",
      "source": [
        "ys_test_pred = gs.predict(xs_test_norm)"
      ],
      "metadata": {
        "id": "SReXB_AqV9mz"
      },
      "id": "SReXB_AqV9mz",
      "execution_count": 14,
      "outputs": []
    },
    {
      "cell_type": "code",
      "execution_count": 13,
      "metadata": {
        "id": "ulfgbJXx7oWp",
        "colab": {
          "base_uri": "https://localhost:8080/",
          "height": 281
        },
        "outputId": "830f0e7a-465c-4455-f262-43bb79d5d79b"
      },
      "outputs": [
        {
          "output_type": "display_data",
          "data": {
            "text/plain": [
              "<Figure size 432x288 with 2 Axes>"
            ],
            "image/png": "[encoded data removed]"
          },
          "metadata": {
            "needs_background": "light"
          }
        }
      ],
      "source": [
        "#visualize the confusion matrix\n",
        "\n",
        "from sklearn.metrics import confusion_matrix\n",
        "\n",
        "# fig, axes = plt.subplots(1,5)\n",
        "\n",
        "for name in names:\n",
        "    if(name == \"MultilayerPerceptron\"):\n",
        "        cm = confusion_matrix(yi_valid, y_valid_preds[name])\n",
        "        sns.heatmap(data = cm, annot = True).set_title(name)\n"
      ],
      "id": "ulfgbJXx7oWp"
    },
    {
      "cell_type": "markdown",
      "metadata": {
        "id": "f3eebb86"
      },
      "source": [
        "## Section 4. Report your result. (50 Points)"
      ],
      "id": "f3eebb86"
    },
    {
      "cell_type": "markdown",
      "metadata": {
        "id": "60705efd"
      },
      "source": [
        "### 4.1. Briefly summarize your experiments. (5 Points)\n",
        "\n",
        "Write your answers here. You do not need to write a long report, just summarize your designed experiments and the conclusions.\n",
        "\n"
      ],
      "id": "60705efd"
    },
    {
      "cell_type": "markdown",
      "metadata": {
        "id": "48b412ea"
      },
      "source": [
        "### 4.2. Explain your final solution. (5 Points) \n",
        "\n",
        "\n",
        "1. reshape the xs_test to (10000, 32* 32* 3)\n",
        "2. normalize the values in xs_test by dividing the original values by 255 as 0-1\n",
        "3. apply different multi-class classifiction models with different hyperparameter\n",
        "4. conclude that sklearn.neural_network.MLPClassifier performed the best accuracy as 0.52\n"
      ],
      "id": "48b412ea"
    },
    {
      "cell_type": "markdown",
      "metadata": {
        "id": "c1f12790"
      },
      "source": [
        "### 4.3 Submit your predictions on the test set. (40 Points).\n",
        "\n",
        "We will rank the prediction accuracy for all the submissions. The grading rules will be:\n",
        "\n",
        "- 40 points for the Top 10%.\n",
        "- 30 points for the Top 20%.\n",
        "- 20 points for the Top 50%.\n",
        "- 10 points for the Top 100%.\n",
        "\n",
        "Notes:\n",
        "- Save your predictions on the test set using our code. Do not modify the `save_submission_results()` funciton below. Before submitting your txt file, please check your format is the same as our given file: `pred_0123456789.txt`.\n",
        "- Zip (1) Your prediction file: `pred_xxxxxx.txt` and (2) `hw3.ipynb` file in a zip file and submit to Moodle."
      ],
      "id": "c1f12790"
    },
    {
      "cell_type": "code",
      "execution_count": 18,
      "metadata": {
        "id": "fc24b57f"
      },
      "outputs": [],
      "source": [
        "def save_submission_results(ys_test_pred, uid=\"WRITE_YOUR_UID_HERE\"):\n",
        "    \"\"\"\n",
        "    DO NOT modify this function. Otherwise, our autograder will not\n",
        "    be able to verify your results.\n",
        "    \n",
        "    Args:\n",
        "        ys_test_pred: numpy array of shape (num_tests, )\n",
        "        uid: student's UID. \n",
        "    \"\"\"\n",
        "    num_tests = 10000\n",
        "    assert isinstance(ys_test_pred, np.ndarray)\n",
        "    assert ys_test_pred.shape == (num_tests, )\n",
        "    \n",
        "    out_path = f\"pred_{uid}.txt\"\n",
        "    with open(out_path, \"w\") as f:\n",
        "        for idx, y_pred in enumerate(ys_test_pred):\n",
        "            im_name = f\"test_{idx:05d}.jpg\"\n",
        "            f.write(f\"{im_name} {y_pred}\\n\")\n",
        "    \n",
        "    print(f\"Result written to {out_path}\")"
      ],
      "id": "fc24b57f"
    },
    {
      "cell_type": "code",
      "execution_count": 19,
      "metadata": {
        "id": "38e98dfb",
        "colab": {
          "base_uri": "https://localhost:8080/"
        },
        "outputId": "8709da9a-b542-489d-d639-157fc38d0c42"
      },
      "outputs": [
        {
          "output_type": "stream",
          "name": "stdout",
          "text": [
            "Result written to pred_3035790941.txt\n"
          ]
        }
      ],
      "source": [
        "# === Your code here ===\n",
        "save_submission_results(ys_test_pred, uid=\"3035790941\")\n",
        "# ======================"
      ],
      "id": "38e98dfb"
    }
  ],
  "metadata": {
    "colab": {
      "provenance": []
    },
    "kernelspec": {
      "display_name": "Python 3.6.13 ('py36')",
      "language": "python",
      "name": "python3"
    },
    "language_info": {
      "codemirror_mode": {
        "name": "ipython",
        "version": 3
      },
      "file_extension": ".py",
      "mimetype": "text/x-python",
      "name": "python",
      "nbconvert_exporter": "python",
      "pygments_lexer": "ipython3",
      "version": "3.6.13"
    },
    "vscode": {
      "interpreter": {
        "hash": "d17123b7a852ae6f995cf965aca53bbdb6bda840a01f47f622e12eaae1166d96"
      }
    }
  },
  "nbformat": 4,
  "nbformat_minor": 5
}