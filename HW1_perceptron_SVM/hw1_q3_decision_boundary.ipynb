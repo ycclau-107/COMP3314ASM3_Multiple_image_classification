{
  "cells": [
    {
      "cell_type": "markdown",
      "metadata": {
        "id": "3VsaU5lGx2rn"
      },
      "source": [
        "# COMP3314 HW1-Q3: Decision Boundary (20 points)"
      ]
    },
    {
      "cell_type": "code",
      "execution_count": 1,
      "metadata": {
        "ExecuteTime": {
          "end_time": "2022-09-27T00:00:35.975588Z",
          "start_time": "2022-09-27T00:00:35.597477Z"
        },
        "id": "p5lkaunQx2sI"
      },
      "outputs": [],
      "source": [
        "import matplotlib.pyplot as plt\n",
        "from matplotlib.colors import ListedColormap\n",
        "import numpy as np\n",
        "import pandas as pd"
      ]
    },
    {
      "cell_type": "code",
      "execution_count": 2,
      "metadata": {
        "ExecuteTime": {
          "end_time": "2022-09-27T00:00:35.980364Z",
          "start_time": "2022-09-27T00:00:35.976720Z"
        },
        "id": "H5v7I30Zx2sL"
      },
      "outputs": [],
      "source": [
        "\"\"\"\n",
        "Note: Do not change the code in this cell.\n",
        "\"\"\"\n",
        "\n",
        "\n",
        "class Perceptron(object):\n",
        "\n",
        "    def __init__(self, eta=0.01, n_iter=10):\n",
        "        \"\"\"\n",
        "        Args:\n",
        "            eta (float, optional): Learning rate. Defaults to 0.01.\n",
        "            n_iter (int, optional): Number of iterations. Defaults to 10.\n",
        "        \"\"\"\n",
        "        self.eta = eta\n",
        "        self.n_iter = n_iter\n",
        "\n",
        "    def fit(self, xs, ys):\n",
        "        \"\"\"\n",
        "        Fit training data.\n",
        "\n",
        "        Args:\n",
        "            xs (array-like): Training vectors, shape = (n_samples, n_features).\n",
        "            ys (array-like): Target values, shape = (n_samples,).\n",
        "\n",
        "        Note: For simplicity, batch size is 1.\n",
        "        \"\"\"\n",
        "        self.w_ = np.zeros(1 + xs.shape[1])\n",
        "        self.errors_ = []\n",
        "\n",
        "        for _ in range(self.n_iter):\n",
        "            errors = 0\n",
        "            for x, y in zip(xs, ys):\n",
        "                update = self.eta * (y - self.predict(x))\n",
        "                self.w_[1:] += update * x\n",
        "                self.w_[0] += update\n",
        "                errors += int(update != 0.0)\n",
        "            self.errors_.append(errors)\n",
        "        return self\n",
        "\n",
        "    def predict(self, xs):\n",
        "        \"\"\"\n",
        "        Args:\n",
        "            xs (array-like): Training vectors, shape = (n_samples, n_features).\n",
        "\n",
        "        Returns:\n",
        "            array-like: Predicted labels, shape = (n_samples,).\n",
        "        \"\"\"\n",
        "        y_pred = np.dot(xs, self.w_[1:]) + self.w_[0]\n",
        "        y_pred = np.where(y_pred >= 0.0, 1, -1)\n",
        "        return y_pred"
      ]
    },
    {
      "cell_type": "code",
      "execution_count": 3,
      "metadata": {
        "ExecuteTime": {
          "end_time": "2022-09-27T00:00:35.992089Z",
          "start_time": "2022-09-27T00:00:35.982591Z"
        },
        "id": "wZQkCV6px2sN"
      },
      "outputs": [],
      "source": [
        "\"\"\"\n",
        "Note: Do not change the code in this cell.\n",
        "\"\"\"\n",
        "\n",
        "\n",
        "def fetch_dataset():\n",
        "    \"\"\"\n",
        "    Download and get a subset the UCI Iris dataset.\n",
        "\n",
        "    Returns:\n",
        "        (xs, ys), where xs has shape (100, 2) and ys has shape (100,).\n",
        "    \"\"\"\n",
        "    # Download dataset\n",
        "    url = \"https://archive.ics.uci.edu/ml/machine-learning-databases/iris/iris.data\"\n",
        "    df = pd.read_csv(url, header=None)\n",
        "    df.tail()\n",
        "\n",
        "    # Select setosa and versicolor\n",
        "    num_samples = 100\n",
        "    ys = df.iloc[0:num_samples, 4].values\n",
        "    ys = np.where(ys == \"Iris-setosa\", -1, 1)\n",
        "\n",
        "    # Extract sepal length and petal length\n",
        "    xs = df.iloc[0:num_samples, [0, 2]].values\n",
        "\n",
        "    return xs, ys\n",
        "\n",
        "\n",
        "def plot_dataset(xs, ys):\n",
        "    # Sanity check: ys must be 1 or -1\n",
        "    assert np.all(np.logical_or(ys == 1, ys == -1))\n",
        "\n",
        "    # Set plotting styles\n",
        "    _map_label_to_color = {\n",
        "        -1: \"red\",\n",
        "        1: \"blue\",\n",
        "    }\n",
        "    _map_label_to_marker = {\n",
        "        -1: \"s\",\n",
        "        1: \"o\",\n",
        "    }\n",
        "\n",
        "    # Plot dataset.\n",
        "    for label in [1, -1]:\n",
        "        plt.scatter(x=xs[ys == label, 0],\n",
        "                    y=xs[ys == label, 1],\n",
        "                    alpha=0.8,\n",
        "                    c=_map_label_to_color[label],\n",
        "                    marker=_map_label_to_marker[label])\n",
        "\n",
        "\n",
        "def plot_decision_regions(xs, model, resolution=0.05):\n",
        "    # Compute limits (bounds) for plotting, add 1 to each side for padding.\n",
        "    # Row and column corresponds to the first/second feature dimension of xs.\n",
        "    row_limit = xs[:, 0].min() - 1, xs[:, 0].max() + 1\n",
        "    col_limit = xs[:, 1].min() - 1, xs[:, 1].max() + 1\n",
        "\n",
        "    # Create a uniform grid of points based on the interval and resolution.\n",
        "    row_min, row_max = row_limit\n",
        "    col_min, col_max = col_limit\n",
        "    rows_grid, cols_grid = np.meshgrid(np.arange(row_min, row_max, resolution),\n",
        "                                       np.arange(col_min, col_max, resolution))\n",
        "\n",
        "    # This xs is the simulated grid, no the original dataset.\n",
        "    xs = np.array([rows_grid.ravel(), cols_grid.ravel()]).T\n",
        "\n",
        "    # Predict labels for each point in the grid.\n",
        "    ys_pred = model.predict(xs)\n",
        "    ys_pred = ys_pred.reshape(rows_grid.shape)\n",
        "\n",
        "    # Plot decision regions.\n",
        "    cmap = ListedColormap([\"red\", \"blue\"])\n",
        "    plt.contourf(rows_grid, cols_grid, ys_pred, alpha=0.3, cmap=cmap)\n",
        "    plt.xlim(rows_grid.min(), rows_grid.max())\n",
        "    plt.ylim(cols_grid.min(), cols_grid.max())\n",
        "\n",
        "\n",
        "def plot_decision_boundary(src_pt, dst_pt):\n",
        "    \"\"\"\n",
        "    Plot a line from src_pt to dst_pt. src_pt and dst_pt are 2D point\n",
        "    coordinates representing the decision boundary.\n",
        "\n",
        "    Args:\n",
        "        src_pt (array-like): Source point, shape = (2,).\n",
        "        dst_pt (array-like): Destination point, shape = (2,).\n",
        "    \"\"\"\n",
        "    assert len(src_pt) == 2\n",
        "    assert len(dst_pt) == 2\n",
        "    plt.plot(\n",
        "        [src_pt[0], dst_pt[0]],\n",
        "        [src_pt[1], dst_pt[1]],\n",
        "        color=\"green\",\n",
        "        linewidth=4,\n",
        "        label=\"Decision boundary (should match the decision regions)\",\n",
        "    )"
      ]
    },
    {
      "cell_type": "markdown",
      "metadata": {
        "id": "AMyMMQ9xx2sR"
      },
      "source": [
        "## 1. Train model\n",
        "First, let's load the dataset and train the perceptron model."
      ]
    },
    {
      "cell_type": "code",
      "execution_count": 4,
      "metadata": {
        "ExecuteTime": {
          "end_time": "2022-09-27T00:00:36.122719Z",
          "start_time": "2022-09-27T00:00:35.993063Z"
        },
        "id": "bqpHFY_nx2sS"
      },
      "outputs": [],
      "source": [
        "# Download dataset.\n",
        "xs, ys = fetch_dataset()\n",
        "\n",
        "# Train model.\n",
        "model = Perceptron(eta=0.1, n_iter=10)\n",
        "model = model.fit(xs, ys)"
      ]
    },
    {
      "cell_type": "markdown",
      "metadata": {
        "id": "Lcr5L-L0x2sT"
      },
      "source": [
        "## 2. Visualize dataset and decision regions\n",
        "Now, let's visulize the decision regions. This is achieve by generating a grid of points and running them through the classifier. You may checkout the `plot_decision_regions()` function for more details."
      ]
    },
    {
      "cell_type": "code",
      "execution_count": 5,
      "metadata": {
        "ExecuteTime": {
          "end_time": "2022-09-27T00:01:30.911080Z",
          "start_time": "2022-09-27T00:01:30.821568Z"
        },
        "colab": {
          "base_uri": "https://localhost:8080/",
          "height": 268
        },
        "id": "dUI8uMtDx2sV",
        "outputId": "1a9e0984-8bc8-4863-e338-6345cfcb4c5e"
      },
      "outputs": [
        {
          "output_type": "display_data",
          "data": {
            "text/plain": [
              "<Figure size 432x288 with 1 Axes>"
            ],
            "image/png": "[encoded data removed]"
          },
          "metadata": {
            "needs_background": "light"
          }
        }
      ],
      "source": [
        "plot_dataset(xs, ys)\n",
        "plot_decision_regions(xs, model)"
      ]
    },
    {
      "cell_type": "markdown",
      "metadata": {
        "id": "FGZvMuIBx2sY"
      },
      "source": [
        "## 3. Draw a decision boundary\n",
        "\n",
        "The decision boundary is a line specified by two points: src_pt and dst_pt. As a first step, we give it some random values and call the `plot_decision_boundary()` function for plotting.\n",
        "\n",
        "We can see that the deicison boundary does not match the decision regions."
      ]
    },
    {
      "cell_type": "code",
      "execution_count": 6,
      "metadata": {
        "ExecuteTime": {
          "end_time": "2022-09-27T00:09:11.775196Z",
          "start_time": "2022-09-27T00:09:11.690799Z"
        },
        "colab": {
          "base_uri": "https://localhost:8080/",
          "height": 297
        },
        "id": "c8UbhPUrx2sb",
        "outputId": "c6abb96f-5657-491c-8399-c0c96254ef81"
      },
      "outputs": [
        {
          "output_type": "display_data",
          "data": {
            "text/plain": [
              "<Figure size 432x288 with 1 Axes>"
            ],
            "image/png": "[encoded data removed]"
          },
          "metadata": {
            "needs_background": "light"
          }
        }
      ],
      "source": [
        "src_pt = [3.3, 2.0]\n",
        "dst_pt = [8.0, 4.0]\n",
        "plot_dataset(xs, ys)\n",
        "plot_decision_regions(xs, model)\n",
        "plot_decision_boundary(src_pt, dst_pt)\n",
        "plt.xlabel(\"Sepal length [cm]\")\n",
        "plt.ylabel(\"Petal length [cm]\")\n",
        "plt.legend(loc=\"upper left\")\n",
        "plt.tight_layout()\n",
        "plt.show()"
      ]
    },
    {
      "cell_type": "markdown",
      "metadata": {
        "id": "11r80aX4x2se"
      },
      "source": [
        "## 4. Compute actual decision boundary\n",
        "\n",
        "Now, it's your turn to compute the actual decision boundary based on the model. Complete the `compute_decision_boundary()` function below with your own code. You should not hard-code dataset specific values inside the function."
      ]
    },
    {
      "cell_type": "code",
      "execution_count": 15,
      "metadata": {
        "ExecuteTime": {
          "end_time": "2022-09-27T00:12:27.185594Z",
          "start_time": "2022-09-27T00:12:27.102747Z"
        },
        "id": "KhxlCqVYx2sf",
        "colab": {
          "base_uri": "https://localhost:8080/",
          "height": 297
        },
        "outputId": "2d7a1c4d-878d-48a4-89c7-afd6b7b21a3b"
      },
      "outputs": [
        {
          "output_type": "display_data",
          "data": {
            "text/plain": [
              "<Figure size 432x288 with 1 Axes>"
            ],
            "image/png": "[encoded data removed]"
          },
          "metadata": {
            "needs_background": "light"
          }
        }
      ],
      "source": [
        "def compute_decision_boundary(xs, model):\n",
        "    \"\"\"\n",
        "    Compute the decision boundary from the model.\n",
        "\n",
        "    Returns:\n",
        "        A tuple of two points (src_pt, dst_pt).\n",
        "    \"\"\"\n",
        "    # Your code here ####################\n",
        "    # Consider w1*x1 + w2*x2 + w0 = 0\n",
        "    # x1 = -w0/w1 when x2 = 0\n",
        "    # x2 = -w0/w2 when x1 = 0\n",
        "    x_axis = (-model.w_[0]/model.w_[1],0)\n",
        "    y_axis = (0,-model.w_[0]/model.w_[2])\n",
        "    # Here the linear model y = m*x + c is adopted, m is the slope\n",
        "    slope = (y_axis[1]-x_axis[1])/(y_axis[0]-x_axis[0])\n",
        "    # c = y_0 - m*x_0\n",
        "    c = y_axis[1]-slope*y_axis[0]\n",
        "    # Consider the boundary for x in [0,8]\n",
        "    src_pt = (0,slope*0+c)\n",
        "    dst_pt = (8,slope*8+c)\n",
        "    #####################################\n",
        "    return src_pt, dst_pt\n",
        "\n",
        "\n",
        "plot_dataset(xs, ys)\n",
        "plot_decision_regions(xs, model)\n",
        "src_pt, dst_pt = compute_decision_boundary(xs, model)\n",
        "plot_decision_boundary(src_pt, dst_pt)\n",
        "plt.xlabel(\"Sepal length [cm]\")\n",
        "plt.ylabel(\"Petal length [cm]\")\n",
        "plt.legend(loc=\"upper left\")\n",
        "plt.tight_layout()\n",
        "plt.show()"
      ]
    }
  ],
  "metadata": {
    "kernelspec": {
      "display_name": "Python 3.6.8 64-bit",
      "language": "python",
      "name": "python3"
    },
    "language_info": {
      "codemirror_mode": {
        "name": "ipython",
        "version": 3
      },
      "file_extension": ".py",
      "mimetype": "text/x-python",
      "name": "python",
      "nbconvert_exporter": "python",
      "pygments_lexer": "ipython3",
      "version": "3.6.8"
    },
    "vscode": {
      "interpreter": {
        "hash": "31f2aee4e71d21fbe5cf8b01ff0e069b9275f58929596ceb00d14d90e3e16cd6"
      }
    },
    "colab": {
      "provenance": [],
      "collapsed_sections": []
    }
  },
  "nbformat": 4,
  "nbformat_minor": 0
}