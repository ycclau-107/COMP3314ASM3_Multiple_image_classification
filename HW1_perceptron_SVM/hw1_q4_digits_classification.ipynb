{
  "cells": [
    {
      "cell_type": "markdown",
      "metadata": {
        "id": "0AUwbFEaMiWi"
      },
      "source": [
        "# COMP3314 HW1-Q4: Hand-written Digits Classification (20 points)"
      ]
    },
    {
      "cell_type": "markdown",
      "metadata": {
        "id": "s9RyhbgDaXSh"
      },
      "source": [
        "In chapter 3 sample codes, we applied different scikit-learn classifiers for the Iris data set. In this question, we will use the classifiers over another data set: hand-written digits.\n",
        "\n",
        "Your tasks:\n",
        "\n",
        "1. Split the dataset into a training set and a test set.\n",
        "2. Create classifiers from scikit-learn and set their hyper-parameters. The classifiers include:\n",
        "   * Perceptron\n",
        "   * Logistic regression\n",
        "   * SVM\n",
        "   * Decision tree\n",
        "   * Random forest\n",
        "   * kNN\n",
        "3. Train your classifiers with the training set.\n",
        "4. Evaluate your classifiers with the test set.\n",
        "5. Compare the performance of the classifiers. Which classifier(s) perform(s) the best and worst, and why?\n"
      ]
    },
    {
      "cell_type": "code",
      "execution_count": 1,
      "metadata": {
        "ExecuteTime": {
          "end_time": "2022-09-27T00:38:58.685754Z",
          "start_time": "2022-09-27T00:38:58.224601Z"
        },
        "colab": {
          "base_uri": "https://localhost:8080/"
        },
        "id": "G34BD-WdaneG",
        "outputId": "2d4cf60b-7f43-4b47-efee-67ea45f806b1"
      },
      "outputs": [
        {
          "output_type": "stream",
          "name": "stdout",
          "text": [
            "(1797, 64)\n",
            "(1797,)\n"
          ]
        }
      ],
      "source": [
        "from sklearn.datasets import load_digits\n",
        "import matplotlib.pyplot as plt\n",
        "import matplotlib as mpl\n",
        "\n",
        "digits = load_digits()\n",
        "\n",
        "xs = digits.data\n",
        "ys = digits.target\n",
        "\n",
        "print(xs.shape)\n",
        "print(ys.shape)"
      ]
    },
    {
      "cell_type": "code",
      "execution_count": 2,
      "metadata": {
        "ExecuteTime": {
          "end_time": "2022-09-27T00:38:59.020649Z",
          "start_time": "2022-09-27T00:38:58.686849Z"
        },
        "colab": {
          "base_uri": "https://localhost:8080/",
          "height": 602
        },
        "id": "fGu93j6CaqLq",
        "outputId": "109ec056-d7d5-4512-e3d3-f8a51b922a64"
      },
      "outputs": [
        {
          "output_type": "display_data",
          "data": {
            "text/plain": [
              "<Figure size 900x600 with 20 Axes>"
            ],
            "image/png": "[encoded data removed]"
          },
          "metadata": {}
        }
      ],
      "source": [
        "mpl.rcParams[\"figure.dpi\"] = 150\n",
        "num_rows = 4\n",
        "num_cols = 5\n",
        "fig, ax = plt.subplots(nrows=num_rows, ncols=num_cols, sharex=True, sharey=True)\n",
        "ax = ax.flatten()\n",
        "\n",
        "for index in range(num_rows * num_cols):\n",
        "    img = digits.images[index]\n",
        "    label = digits.target[index]\n",
        "    ax[index].imshow(img, cmap=\"Greys\", interpolation=\"nearest\")\n",
        "    ax[index].set_title(\"digit \" + str(label))\n",
        "\n",
        "ax[0].set_xticks([])\n",
        "ax[0].set_yticks([])\n",
        "plt.tight_layout()\n",
        "plt.show()"
      ]
    },
    {
      "cell_type": "markdown",
      "metadata": {
        "id": "Vrz6Lwxja7XB"
      },
      "source": [
        "## Data Preprocessing"
      ]
    },
    {
      "cell_type": "code",
      "execution_count": 3,
      "metadata": {
        "ExecuteTime": {
          "end_time": "2022-09-27T00:38:59.147493Z",
          "start_time": "2022-09-27T00:38:59.021524Z"
        },
        "id": "OJW5hPNkbAT4"
      },
      "outputs": [],
      "source": [
        "from sklearn.model_selection import train_test_split\n",
        "import numpy as np\n",
        "\n",
        "def get_accuracy(ys, ys_pred):\n",
        "    assert ys.shape == ys_pred.shape\n",
        "    assert ys.ndim == 1\n",
        "    return np.sum(ys == ys_pred) / len(ys)\n",
        "\n",
        "xs_train, xs_test, ys_train, ys_test = train_test_split(xs,\n",
        "                                                        ys,\n",
        "                                                        test_size=0.1,\n",
        "                                                        stratify=ys)"
      ]
    },
    {
      "cell_type": "markdown",
      "metadata": {
        "id": "GX6bWDjCLoIr"
      },
      "source": [
        "## Classifier #1 Perceptron"
      ]
    },
    {
      "cell_type": "code",
      "execution_count": 4,
      "metadata": {
        "ExecuteTime": {
          "end_time": "2022-09-27T00:38:59.426143Z",
          "start_time": "2022-09-27T00:38:59.148821Z"
        },
        "id": "lYkmrjmrLoIr",
        "colab": {
          "base_uri": "https://localhost:8080/"
        },
        "outputId": "3a5c0099-2de5-4eb0-b1b1-09d2f9af87ca"
      },
      "outputs": [
        {
          "output_type": "stream",
          "name": "stdout",
          "text": [
            "eta0 = 0.0001, accuracy = 0.9389\n",
            "eta0 = 0.0010, accuracy = 0.9556\n",
            "eta0 = 0.0100, accuracy = 0.9500\n",
            "eta0 = 0.1000, accuracy = 0.9500\n",
            "eta0 = 1.0000, accuracy = 0.9611\n"
          ]
        }
      ],
      "source": [
        "# Example code, including training and testing, to observe the accuracies.\n",
        "from sklearn.linear_model import Perceptron\n",
        "\n",
        "# Tune the eta0 hyperparameter.\n",
        "eta0_list = [0.0001, 0.001, 0.01, 0.1, 1]\n",
        "\n",
        "# Your code here.\n",
        "accuracies = []\n",
        "for eta0 in eta0_list:\n",
        "    model = Perceptron(max_iter=100, tol=1e-3, eta0=eta0)\n",
        "    model.fit(xs_train, ys_train)\n",
        "    ys_pred = model.predict(xs_test)\n",
        "    accuracy = get_accuracy(ys_test, ys_pred)\n",
        "    accuracies.append(accuracy)\n",
        "\n",
        "for eta0, accuracy in zip(eta0_list, accuracies):\n",
        "    print(f\"eta0 = {eta0:.4f}, accuracy = {accuracy:.4f}\")"
      ]
    },
    {
      "cell_type": "markdown",
      "metadata": {
        "id": "yfoFni6tLoIv"
      },
      "source": [
        "## Classifier #2 Logistic Regression"
      ]
    },
    {
      "cell_type": "code",
      "execution_count": 5,
      "metadata": {
        "ExecuteTime": {
          "end_time": "2022-09-27T00:39:01.069959Z",
          "start_time": "2022-09-27T00:38:59.426955Z"
        },
        "id": "eggDI2swLoIv",
        "colab": {
          "base_uri": "https://localhost:8080/"
        },
        "outputId": "33eb820c-ad12-4199-fc81-4dcedbac0ac1"
      },
      "outputs": [
        {
          "output_type": "stream",
          "name": "stdout",
          "text": [
            "Ci = 0.0010, accuracy = 0.9722\n",
            "Ci = 0.0010, accuracy = 0.9722\n",
            "Ci = 0.0100, accuracy = 0.9722\n",
            "Ci = 1.0000, accuracy = 0.9667\n",
            "Ci = 10.0000, accuracy = 0.9611\n",
            "Ci = 100.0000, accuracy = 0.9556\n"
          ]
        }
      ],
      "source": [
        "# Your code, including training and testing, to observe the accuracies.\n",
        "\n",
        "from sklearn.linear_model import LogisticRegression\n",
        "\n",
        "# Tune the C hyperparameter.\n",
        "C_list = [1e-3, 0.001, 0.01, 1, 10, 100]\n",
        "\n",
        "# Your code here.\n",
        "accuracies_log = []\n",
        "for Ci in C_list:\n",
        "  model = LogisticRegression(C = Ci, solver = 'liblinear', multi_class = 'ovr')\n",
        "  model.fit(xs_train,ys_train)\n",
        "  accuracy = model.score(xs_test,ys_test)\n",
        "  accuracies_log.append(accuracy)\n",
        "\n",
        "for Ci, accuracy_i in zip(C_list, accuracies_log):\n",
        "  print(f\"Ci = {Ci:.4f}, accuracy = {accuracy_i:.4f}\")"
      ]
    },
    {
      "cell_type": "markdown",
      "metadata": {
        "id": "4hlwLV3RLoIz"
      },
      "source": [
        "## Classifier #3 SVM"
      ]
    },
    {
      "cell_type": "code",
      "execution_count": 6,
      "metadata": {
        "ExecuteTime": {
          "end_time": "2022-09-27T00:39:01.499751Z",
          "start_time": "2022-09-27T00:39:01.071098Z"
        },
        "id": "jWracruvLoI0",
        "colab": {
          "base_uri": "https://localhost:8080/"
        },
        "outputId": "73eb8e20-8f88-4b22-b636-a031170fb16f"
      },
      "outputs": [
        {
          "output_type": "stream",
          "name": "stdout",
          "text": [
            "Ci = 0.0001, accuracy = 0.9611\n",
            "Ci = 0.0010, accuracy = 0.9389\n",
            "Ci = 0.0100, accuracy = 0.9278\n",
            "Ci = 0.1000, accuracy = 0.9389\n",
            "Ci = 1.0000, accuracy = 0.9722\n",
            "Ci = 10.0000, accuracy = 0.9611\n"
          ]
        }
      ],
      "source": [
        "# Your code, including training and testing, to observe the accuracies.\n",
        "\n",
        "from sklearn.linear_model import SGDClassifier\n",
        "\n",
        "# Tune the alpha hyperparameter.\n",
        "alpha_list = [0.0001, 0.001, 0.01, 0.1, 1, 10]\n",
        "\n",
        "# Your code here.\n",
        "acc_svm = []\n",
        "for alpha_i in alpha_list:\n",
        "  model = SGDClassifier(alpha = alpha_i, loss = 'hinge')\n",
        "  model.fit(xs_train,ys_train)\n",
        "  acc = model.score(xs_test,ys_test)\n",
        "  acc_svm.append(acc)\n",
        "\n",
        "for alpha_i, acc_i in zip(alpha_list, acc_svm):\n",
        "  print(f\"Ci = {alpha_i:.4f}, accuracy = {acc_i:.4f}\")"
      ]
    },
    {
      "cell_type": "markdown",
      "metadata": {
        "id": "OjozjBQ8LoI4"
      },
      "source": [
        "\n",
        "## Classifier #4 Decision Tree"
      ]
    },
    {
      "cell_type": "code",
      "execution_count": 7,
      "metadata": {
        "ExecuteTime": {
          "end_time": "2022-09-27T00:39:01.752926Z",
          "start_time": "2022-09-27T00:39:01.501148Z"
        },
        "id": "inw3NjgQLoI4",
        "colab": {
          "base_uri": "https://localhost:8080/"
        },
        "outputId": "9028b982-937f-4970-dd77-b3802d619275"
      },
      "outputs": [
        {
          "output_type": "stream",
          "name": "stdout",
          "text": [
            "Ci = 12, accuracy = 0.8056\n",
            "Ci = 25, accuracy = 0.7944\n",
            "Ci = 50, accuracy = 0.7944\n",
            "Ci = None, accuracy = 0.7944\n"
          ]
        }
      ],
      "source": [
        "# Your code, including training and testing, to observe the accuracies.\n",
        "\n",
        "from sklearn.tree import DecisionTreeClassifier\n",
        "\n",
        "# Tune the max_depth hyperparameter.\n",
        "max_depth_list = [12, 25, 50, None]\n",
        "\n",
        "# Your code here.\n",
        "acc_tree = []\n",
        "for max_i in max_depth_list:\n",
        "  model = DecisionTreeClassifier(criterion = 'gini', max_depth = max_i,random_state = 1)\n",
        "  model.fit(xs_train,ys_train)\n",
        "  acc = model.score(xs_test,ys_test)\n",
        "  acc_tree.append(acc)\n",
        "\n",
        "for depth_i, acc_i in zip(max_depth_list, acc_tree):\n",
        "  print(f\"Ci = {depth_i}, accuracy = {acc_i:.4f}\")"
      ]
    },
    {
      "cell_type": "markdown",
      "metadata": {
        "id": "hIVcFJhELoI8"
      },
      "source": [
        "\n",
        "## Classifier #5 Random Forest"
      ]
    },
    {
      "cell_type": "code",
      "execution_count": 8,
      "metadata": {
        "ExecuteTime": {
          "end_time": "2022-09-27T00:39:05.820565Z",
          "start_time": "2022-09-27T00:39:01.753777Z"
        },
        "id": "ZsFgIgVKLoI8",
        "colab": {
          "base_uri": "https://localhost:8080/"
        },
        "outputId": "ef14fc6b-8a0c-4e83-fb24-eaed0ffbf84b"
      },
      "outputs": [
        {
          "output_type": "stream",
          "name": "stdout",
          "text": [
            "Ci = 10, accuracy = 0.9611\n",
            "Ci = 50, accuracy = 0.9833\n",
            "Ci = 100, accuracy = 0.9889\n",
            "Ci = 200, accuracy = 0.9833\n"
          ]
        }
      ],
      "source": [
        "# Your code, including training and testing, to observe the accuracies.\n",
        "\n",
        "from sklearn.ensemble import RandomForestClassifier\n",
        "\n",
        "# Tune the n_estimators hyperparameter.\n",
        "n_estimators_list = [10, 50, 100, 200]\n",
        "\n",
        "# Your code here.\n",
        "acc_Rforest = []\n",
        "for n_est_i in n_estimators_list:\n",
        "  model = RandomForestClassifier(n_estimators = n_est_i,criterion = 'gini')\n",
        "  model.fit(xs_train,ys_train)\n",
        "  acc = model.score(xs_test,ys_test)\n",
        "  acc_Rforest.append(acc)\n",
        "\n",
        "for n_est_i, acc_i in zip(n_estimators_list, acc_Rforest):\n",
        "  print(f\"Ci = {n_est_i}, accuracy = {acc_i:.4f}\")"
      ]
    },
    {
      "cell_type": "markdown",
      "metadata": {
        "id": "OQWwURjyLoI_"
      },
      "source": [
        "## Classifier #6 KNN"
      ]
    },
    {
      "cell_type": "code",
      "execution_count": 9,
      "metadata": {
        "ExecuteTime": {
          "end_time": "2022-09-27T00:39:06.224941Z",
          "start_time": "2022-09-27T00:39:05.822002Z"
        },
        "id": "afe9Rn3FLoJA",
        "colab": {
          "base_uri": "https://localhost:8080/"
        },
        "outputId": "be657dcd-00b4-4ee4-b803-8a0ab10ec5e5"
      },
      "outputs": [
        {
          "output_type": "stream",
          "name": "stdout",
          "text": [
            "Ci = 2, accuracy = 0.9944\n",
            "Ci = 3, accuracy = 0.9833\n",
            "Ci = 5, accuracy = 0.9889\n",
            "Ci = 10, accuracy = 0.9944\n",
            "Ci = 20, accuracy = 0.9833\n"
          ]
        }
      ],
      "source": [
        "# Your code, including training and testing, to observe the accuracies.\n",
        "\n",
        "from sklearn.neighbors import KNeighborsClassifier\n",
        "\n",
        "# Tune the n_neighbors hyperparameter.\n",
        "n_neighbors_list = [2, 3, 5, 10, 20]\n",
        "\n",
        "# Your code here.\n",
        "acc_knn = []\n",
        "for n_nei_i in n_neighbors_list:\n",
        "  model = KNeighborsClassifier(n_neighbors = n_nei_i,metric = 'minkowski')\n",
        "  model.fit(xs_train,ys_train)\n",
        "  acc = model.score(xs_test,ys_test)\n",
        "  acc_knn.append(acc)\n",
        "\n",
        "for n_est_i, acc_i in zip(n_neighbors_list, acc_knn):\n",
        "  print(f\"Ci = {n_est_i}, accuracy = {acc_i:.4f}\")"
      ]
    },
    {
      "cell_type": "markdown",
      "metadata": {
        "id": "YkgMDYz7ddTe"
      },
      "source": [
        "## Discussions\n",
        "\n",
        "Compare the performance of the classifiers. Which classifier(s) perform(s) the best and worst, and why?"
      ]
    },
    {
      "cell_type": "code",
      "source": [
        "name_list = [\"Precetron\",\"LogisticRegression\", \"SVM\", \"DecisionTree\",\"RandomForest\",\"KNN\"]\n",
        "acc_list = [accuracies,accuracies_log,acc_svm,acc_tree,acc_Rforest,acc_knn]\n",
        "\n",
        "print(\"Minimum and Maximum of Accuracy among different Methods\")\n",
        "print(\"[Method] -- [Min] -- [Max]\")\n",
        "for name,acc_i in zip(name_list,acc_list):\n",
        "  print(name,\":\",round(min(acc_i),5), round(max(acc_i),5))"
      ],
      "metadata": {
        "colab": {
          "base_uri": "https://localhost:8080/"
        },
        "id": "mDPMYJahxjqv",
        "outputId": "c2321d5a-5288-47f0-b72a-c6401161811c"
      },
      "execution_count": 10,
      "outputs": [
        {
          "output_type": "stream",
          "name": "stdout",
          "text": [
            "Minimum and Maximum of Accuracy among different Methods\n",
            "[Method] -- [Min] -- [Max]\n",
            "Precetron : 0.93889 0.96111\n",
            "LogisticRegression : 0.95556 0.97222\n",
            "SVM : 0.92778 0.97222\n",
            "DecisionTree : 0.79444 0.80556\n",
            "RandomForest : 0.96111 0.98889\n",
            "KNN : 0.98333 0.99444\n"
          ]
        }
      ]
    },
    {
      "cell_type": "markdown",
      "metadata": {
        "id": "VDpaswM9OWh1"
      },
      "source": [
        "Answer:\n",
        "\n",
        "\n",
        "Among different methods, Decision Tree seems to be the worst classifier. \n",
        "\n",
        "As decision tree may tend to be prone to overfitting. Given a very tall tree, it is easy to overfit the train set by splitting the feature sest until the pure leaf nodes are gained.\n",
        "\n",
        "Meanwhile, random forest seems to have the best accuracy among classifiers. It may due to the fact that the greater number of trees in the forest leads to higher accuracy and prevents the problem of overfitting."
      ]
    },
    {
      "cell_type": "markdown",
      "metadata": {
        "id": "Rv8OUJw8OWh1"
      },
      "source": []
    }
  ],
  "metadata": {
    "colab": {
      "collapsed_sections": [],
      "provenance": []
    },
    "kernelspec": {
      "display_name": "Python 3.6.8 64-bit",
      "language": "python",
      "name": "python3"
    },
    "language_info": {
      "codemirror_mode": {
        "name": "ipython",
        "version": 3
      },
      "file_extension": ".py",
      "mimetype": "text/x-python",
      "name": "python",
      "nbconvert_exporter": "python",
      "pygments_lexer": "ipython3",
      "version": "3.6.8"
    },
    "vscode": {
      "interpreter": {
        "hash": "31f2aee4e71d21fbe5cf8b01ff0e069b9275f58929596ceb00d14d90e3e16cd6"
      }
    }
  },
  "nbformat": 4,
  "nbformat_minor": 0
}