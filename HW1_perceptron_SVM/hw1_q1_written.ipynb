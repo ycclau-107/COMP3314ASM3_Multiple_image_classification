{
  "cells": [
    {
      "cell_type": "markdown",
      "metadata": {
        "id": "0q0ySvkrovOh"
      },
      "source": [
        "# COMP3314 HW1-Q1: Written Questions (50 points)\n",
        "\n",
        "Solve the following questions by hand. No need to implement any code. \n",
        "\n",
        "You should use Markdown to write texts and LaTex to write math equations. See this [documentation](https://jupyter-notebook.readthedocs.io/en/stable/examples/Notebook/Working%20With%20Markdown%20Cells.html) on how to use Markdown and LaTex in Jupyter Notebook."
      ]
    },
    {
      "cell_type": "markdown",
      "metadata": {
        "id": "b_fBv977ovOn"
      },
      "source": [
        "## Q1-1: Perceptron Basics (5 points)\n",
        "\n",
        "### Question\n",
        "\n",
        "Consider a Perceptron with 2 inputs and 1 output. Let the weights of the Perceptron be $w_1 = 1$ and $w_2 = 1$ and let the bias be $w_0 = -1.5$. Calculate the output of the following inputs: $(0, 0), (1, 0), (0, 1), (1, 1)$."
      ]
    },
    {
      "cell_type": "markdown",
      "metadata": {
        "id": "G4YB6qLnovOo"
      },
      "source": [
        "### Answer\n",
        "define $f(x_1,x_2)=w_0+w_1x_1+w_2x_2$: \\\\\n",
        "\n",
        "$f(0,0)=-1.5+1\\cdot0+1\\cdot0=-1.5$ \\\\\n",
        "$f(1,0)=-1.5+1\\cdot1+1\\cdot0=-0.5$ \\\\\n",
        "$f(0,1)=-1.5+1\\cdot0+0\\cdot1=-0.5$ \\\\\n",
        "$f(1,1)=-1.5+1\\cdot1+1\\cdot1=0.5$ \\\\\n",
        "\n",
        "Let the output of Preceptron at data point $(x_1,x_2)$ be $P(x_1,x_2)$:\n",
        "\n",
        "Output of Preceptron for data(0,0) : $P(0,0)=0$ \\\\\n",
        "Output of Preceptron for data(1,0) : $P(1,0)=0$ \\\\\n",
        "Output of Preceptron for data(0,1) : $P(0,1)=0$ \\\\\n",
        "Output of Preceptron for data(1,1) : $P(1,1)=1$ \\\\"
      ]
    },
    {
      "cell_type": "markdown",
      "metadata": {
        "id": "2WuLDkNOovOo"
      },
      "source": [
        "## Q1-2: Boolean Operators (5 points)\n",
        "\n",
        "### Question\n",
        "\n",
        "In this question, we will review boolean operations. Assume the inputs 2-dimensional binary values of 0 (false) and 1 (true). For example, input $(x_1, x_2)$ can only have the following values: $(0, 0), (0, 1), (1, 0), (1, 1). Complete the following truth tables for `NOT`, `AND`, `OR`, `NAND`, `NOR`. \n",
        "\n",
        "You will use these truth tables in Q2, where you will implement perceptrons to compute these boolean operations."
      ]
    },
    {
      "cell_type": "markdown",
      "metadata": {
        "id": "k70mLs92ovOp"
      },
      "source": [
        "### Answer\n",
        "\n",
        "`NOT`: (example table)\n",
        "\n",
        "| $x_1$ | output |\n",
        "| ----- | ------ |\n",
        "| 0     | 1      |\n",
        "| 1     | 0      |\n",
        "\n",
        "`AND`:\n",
        "\n",
        "| $x_1$ | $x_2$ | output |\n",
        "| ----- | ----- | ------ |\n",
        "| 0     | 0     | 0      |\n",
        "| 0     | 1     | 0      |\n",
        "| 1     | 0     | 0      |\n",
        "| 1     | 1     | 1      |\n",
        "\n",
        "`OR`:\n",
        "\n",
        "| $x_1$ | $x_2$ | output |\n",
        "| ----- | ----- | ------ |\n",
        "| 0     | 0     | 0      |\n",
        "| 0     | 1     | 1      |\n",
        "| 1     | 0     | 1      |\n",
        "| 1     | 1     | 1      |\n",
        "\n",
        "`NAND`:\n",
        "\n",
        "| $x_1$ | $x_2$  | output |\n",
        "| ----- | ------ | ------ |\n",
        "| 0     | 0      | 1      |\n",
        "| 0     | 1      | 1      |\n",
        "| 1     | 0      | 1      |\n",
        "| 1     | 1      | 0      |\n",
        "\n",
        "`NOR`:\n",
        "\n",
        "| $x_1$ | $x_2$ | output |\n",
        "| ----- | ----- | ------ |\n",
        "| 0     | 0     | 1      |\n",
        "| 0     | 1     | 0      |\n",
        "| 1     | 0     | 0      |\n",
        "| 1     | 1     | 0      |"
      ]
    },
    {
      "cell_type": "markdown",
      "metadata": {
        "id": "wwILaEUYovOr"
      },
      "source": [
        "## Q1-3: Parity Check (5 points)\n",
        "\n",
        "### Question\n",
        "\n",
        "The parity problem returns 1 if the number of inputs that are 1 is even, and 0 otherwise. Can a perceptron learn this problem for 3 inputs? "
      ]
    },
    {
      "cell_type": "markdown",
      "metadata": {
        "id": "0AUwbFEaMiWi"
      },
      "source": [
        "### Answer\n",
        "\n",
        "| $x_1$ | $x_2$ | $x_3$ | output |\n",
        "| ----- | ----- | ----- | ------ |\n",
        "| 0     | 0     |0      | 1      |\n",
        "| 0     | 0     |1      | 0      |\n",
        "| 0     | 1     |0      | 0      |\n",
        "| 0     | 1     |1      | 1      |\n",
        "| 1     | 0     |0      | 0      |\n",
        "| 1     | 0     |1      | 1      |\n",
        "| 1     | 1     |0      | 1      |\n",
        "| 1     | 1     |1      | 0      |\n",
        "\n",
        "No, since the perceptron will act a NOR gate. It is noted that it is not possible to classify XOR due to its non-linear separability."
      ]
    },
    {
      "cell_type": "markdown",
      "metadata": {
        "id": "ilzuUzPiovOt"
      },
      "source": [
        "## Q1-4 Support Vectors (5 points)"
      ]
    },
    {
      "cell_type": "markdown",
      "metadata": {
        "id": "cgLSl2s5ovOu"
      },
      "source": [
        "### Question\n",
        "\n",
        "Suppose that the following are a set of point in two classes:\n",
        "\n",
        "*   Class1: $(1, 1), (1, 2), (2, 1)$\n",
        "*   Class2: $(0, 0), (1, 0), (0, 1)$\n",
        "\n",
        "1. Plot them and find the optimal separating line. What are the support vectors?\n",
        "2. What is the meaning of support vectors?"
      ]
    },
    {
      "cell_type": "code",
      "execution_count": null,
      "metadata": {
        "colab": {
          "base_uri": "https://localhost:8080/",
          "height": 369
        },
        "id": "Ll658R_BovOw",
        "outputId": "64dfba50-8d81-4b28-de89-c08f310e0a3a"
      },
      "outputs": [
        {
          "output_type": "display_data",
          "data": {
            "text/plain": [
              "<Figure size 360x360 with 1 Axes>"
            ],
            "image/png": "[encoded data removed]"
          },
          "metadata": {
            "needs_background": "light"
          }
        }
      ],
      "source": [
        "%matplotlib inline\n",
        "import matplotlib.pyplot as plt\n",
        "import numpy as np\n",
        "\n",
        "# select setosa and versicolor\n",
        "c1 = np.array([[1, 1], [1, 2], [2, 1]])\n",
        "c2 = np.array([[0, 0], [1, 0], [0, 1]])\n",
        "# plot data\n",
        "plt.figure(figsize=(5, 5))\n",
        "plt.scatter(c1[:, 0], c1[:, 1], color='red', marker='o', label='class1')\n",
        "plt.scatter(c2[:, 0], c2[:, 1], color='blue', marker='x', label='class2')\n",
        "\n",
        "x = np.linspace(0, 1., 5)\n",
        "plt.plot(x, 1 - x, 'b--')\n",
        "x = np.linspace(0, 2., 5)\n",
        "plt.plot(x, 2 - x, 'r--')\n",
        "x = np.linspace(0, 1.5, 5)\n",
        "plt.plot(x, 1.5 - x, 'y-')\n",
        "\n",
        "plt.xlim(-0.2, 2.5)\n",
        "plt.ylim(-0.2, 2.5)\n",
        "plt.grid(True)\n",
        "plt.tight_layout()\n",
        "plt.show()"
      ]
    },
    {
      "cell_type": "markdown",
      "metadata": {
        "id": "DSGJPtpWovOy"
      },
      "source": [
        "### Answer\n",
        "\n",
        "Optimal Separating Line: $x_1+x_2=1$\n",
        "\n",
        "Support Vectors: $(0,1),(1,0),(1,1)$\n",
        "\n",
        "The support vectors are data points that are closer to the hyperplane and influence the position and the orientation of the hyperplane. In order words, support vectors are the marginal data of the group of data which are relatively close to the hyperplane."
      ]
    },
    {
      "cell_type": "markdown",
      "metadata": {
        "id": "_ZZl5RurovOy"
      },
      "source": [
        "## Q1-5: Entropy (5 points)"
      ]
    },
    {
      "cell_type": "markdown",
      "metadata": {
        "id": "Feo9z-uvovOz"
      },
      "source": [
        "### Question\n",
        "\n",
        "Suppose that the probability of five events:\n",
        "\n",
        "- $P(\\text{first}) = 0.5$\n",
        "- $P(\\text{second}) = 0.125$\n",
        "- $P(\\text{third}) = 0.125$\n",
        "- $P(\\text{fourth}) = 0.125$\n",
        "- $P(\\text{fifth}) = 0.125$\n",
        "  \n",
        "Calculate the entropy and write down in words what this means. "
      ]
    },
    {
      "cell_type": "markdown",
      "metadata": {
        "id": "1o7xlNxtovOz"
      },
      "source": [
        "### Answer\n",
        "\n",
        "$H(X) = -\\sum \\Pr(x_i)\\log_2 \\Pr(x_i)$\n",
        "\n",
        "$=-0.5\\cdot\\log_20.5 - 4\\cdot0.125\\cdot\\log_2 0.125$\n",
        "\n",
        "$=2$\n",
        "\n",
        "The meaning of entropy of the system is the impurity or uncertainty in a group of observations. With greater value, more impure the data is."
      ]
    },
    {
      "cell_type": "markdown",
      "metadata": {
        "id": "-NLNlpPEovO0"
      },
      "source": [
        "## Q1-6: Decision Tree (25 points)"
      ]
    },
    {
      "cell_type": "markdown",
      "metadata": {
        "id": "CWinnTR0ovO0"
      },
      "source": [
        "### Question\n",
        "\n",
        "The [new energy vehicle (NEV)](https://www.google.com/search?q=new+energy+vehicle) is the growing trend in the automotive industry to replace traditional gas-powered vehicles. Consider a dataset of customer preference for vehicles. Here are the possible values for each feature:\n",
        "\n",
        "- Engine: {Gas, NEV}\n",
        "- Style: {Sedan, SUV}\n",
        "- Price: {Regular, Luxury}\n",
        "\n",
        "Here is the dataset:\n",
        "\n",
        "| Engine | Style | Price   | Preference? |\n",
        "|--------|-------|---------|-------------|\n",
        "| Gas    | Sedan | Regular | Yes         |\n",
        "| Gas    | Sedan | Regular | No          |\n",
        "| Gas    | Sedan | Luxury  | No          |\n",
        "| Gas    | Sedan | Luxury  | No          |\n",
        "| Gas    | SUV   | Regular | Yes         |\n",
        "| Gas    | SUV   | Luxury  | Yes         |\n",
        "| Gas    | SUV   | Luxury  | No          |\n",
        "| NEV    | Sedan | Regular | Yes         |\n",
        "| NEV    | Sedan | Regular | Yes         |\n",
        "| NEV    | Sedan | Luxury  | Yes         |\n",
        "| NEV    | Sedan | Luxury  | Yes         |\n",
        "| NEV    | SUV   | Regular | No          |\n",
        "| NEV    | SUV   | Regular | Yes         |\n",
        "| NEV    | SUV   | Regular | Yes         |\n",
        "| NEV    | SUV   | Luxury  | Yes         |\n",
        "| NEV    | SUV   | Luxury  | No          |\n",
        "\n",
        "Note that samples with the same features can have different labels. If the leaf node of a decision tree is not pure, the majority vote is used to determine the output label.\n",
        "\n",
        "Now, you want to build a decision tree to predict the preference of a customer. In particular, you want to know which feature (among Engine, Style, and Price) is the most important feature to predict the preference. In other words, which feature should be the root node of the decision tree to maximize the information gain?\n",
        "\n",
        "Your tasks:\n",
        "\n",
        "1. Compute Gini impurity at the root node. (5 points)\n",
        "2. For the 3 features (Engine, Style, and Price), compute the information gain if that feature is used split the root node. (15 points)\n",
        "3. Conclude which feature is the most important feature to predict the preference as it maximizes the information gain. (5 points)"
      ]
    },
    {
      "cell_type": "markdown",
      "metadata": {
        "id": "yAtaNOx_ovO1"
      },
      "source": [
        "### Answer\n"
      ]
    },
    {
      "cell_type": "markdown",
      "metadata": {
        "id": "wIy_SspOovO2"
      },
      "source": [
        "#### 1.Compute Gini impurity at the root node. (5 points)\n",
        "$I_G(t)=\\sum_{t=1}^{c}p(i|t)(1-p(i|t))$\n",
        "\n",
        "$=1-∑_{t=1}^cp(i|t)^2$\n",
        "$=1 - (\\frac{10}{16})^2 - (\\frac{6}{10})^2$\n",
        "\n",
        "$= \\frac{39}{64} $\n",
        "\n",
        "$= 0.609$\n",
        "\n",
        "$\\therefore I_G(t) = 0.609 at the root node$\n",
        "\n",
        "#### 2.For the 3 features, compute the information gain\n",
        "By Engine,\n",
        "\n",
        "\\#Gas = 7, #NEV = 9, #{Gas, Pref==Yes} = 3, #{NEV, Pref==Yes} = 7\n",
        "\n",
        "$I_G(gas)=1-(\\frac{3}{7})^2-(\\frac{4}{7})^2=\\frac{24}{49}$\n",
        "\n",
        "$I_G(NEV)=1-(\\frac{7}{9})^2-(\\frac{2}{9})^2=\\frac{28}{81}$\n",
        "\n",
        "$\\therefore IG(df, Engine)= \\frac{39}{64} - \\frac{7}{16}\\cdot\\frac{24}{49}-\\frac{9}{16}\\cdot\\frac{28}{81}=\\frac{809}{4032}\\approx0.200$\n",
        "\n",
        "By Style,\n",
        "\n",
        "\\#Sedan = 8,#SUV = 8, #{Sedan,Pref==Yes}=5, #{SUV,Pref==Yes}=5\n",
        "\n",
        "$I_G(Sedan)=1-(\\frac{3}{8})^2-(\\frac{5}{8})^2=\\frac{15}{32}$\n",
        "\n",
        "$I_G(SUV)=1-(\\frac{3}{8})^2-(\\frac{5}{8})^2=\\frac{15}{32}$\n",
        "\n",
        "$\\therefore IG(df, Style)= \\frac{39}{64} - \\frac{8}{16}\\cdot\\frac{15}{32}- \\frac{8}{16}\\cdot\\frac{15}{32}=\\frac{9}{64}\\approx0.141$\n",
        "\n",
        "By Price,\n",
        "\n",
        "\\#Regular = 8,#Luxury = 8, #{Regular,Pref==Yes}=6, #{Luxury,Pref==Yes}=4\n",
        "$I_G(Regular)=1-(\\frac{2}{8})^2-(\\frac{6}{8})^2=\\frac{3}{8}$\n",
        "\n",
        "$I_G(Luxury)=1-(\\frac{4}{8})^2-(\\frac{4}{8})^2=\\frac{1}{2}$\n",
        "\n",
        "$\\therefore IG(df, Price)= \\frac{39}{64} - \\frac{8}{16}\\cdot\\frac{3}{8}- \\frac{8}{16}\\cdot\\frac{1}{2}=\\frac{37}{192}\\approx0.193$\n",
        "\n",
        "In conclusion, the feature \"Engine\" is the most important one to predict the preference as it maximizes the information gain.\n"
      ]
    }
  ],
  "metadata": {
    "kernelspec": {
      "display_name": "Python 3.6.8 64-bit",
      "language": "python",
      "name": "python3"
    },
    "language_info": {
      "codemirror_mode": {
        "name": "ipython",
        "version": 3
      },
      "file_extension": ".py",
      "mimetype": "text/x-python",
      "name": "python",
      "nbconvert_exporter": "python",
      "pygments_lexer": "ipython3",
      "version": "3.8.9"
    },
    "vscode": {
      "interpreter": {
        "hash": "31f2aee4e71d21fbe5cf8b01ff0e069b9275f58929596ceb00d14d90e3e16cd6"
      }
    },
    "colab": {
      "provenance": [],
      "collapsed_sections": []
    }
  },
  "nbformat": 4,
  "nbformat_minor": 0
}
