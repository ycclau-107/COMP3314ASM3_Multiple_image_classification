{
  "cells": [
    {
      "cell_type": "markdown",
      "id": "75eb9fe0",
      "metadata": {
        "id": "75eb9fe0"
      },
      "source": [
        "# COMP3314 HW1-Q2: Perceptron Boolean Operators (10 points)"
      ]
    },
    {
      "cell_type": "markdown",
      "id": "fd2a4cc0",
      "metadata": {
        "id": "fd2a4cc0"
      },
      "source": [
        "In this question, we will build on question Q1-2 and implement boolean logic operators using perceptrons. We will implement the following operators:  `NOT`, `AND`, `OR`, `NAND`, `NOR`.\n",
        "\n",
        "The results of the perceptron should match the results in Q1-2. In this question, we use 0 to represent `False` and 1 to represent `True`.\n",
        "\n",
        "Your tasks:\n",
        "\n",
        "1. Implement `AND`, `OR`, `NAND`, `NOR` operators with perceptrons. The `NOT` operator is already implemented for you as a reference. Note that other operators requires two inputs `(x1, x2)`, but the `NOT` operator only requires one input `(x1)`. \n",
        "2. Run the perceptron model with the following inputs: `[(0, 0), (0, 1), (1, 0), (1, 1)]`. You should print the outputs and match them with the results in Q1-2."
      ]
    },
    {
      "cell_type": "markdown",
      "id": "ae1b5bd6",
      "metadata": {
        "id": "ae1b5bd6"
      },
      "source": [
        "## 1. `NOT` Operator"
      ]
    },
    {
      "cell_type": "code",
      "execution_count": 1,
      "id": "875d409e",
      "metadata": {
        "colab": {
          "base_uri": "https://localhost:8080/"
        },
        "id": "875d409e",
        "outputId": "3f1450bf-e7fb-4a9f-b4f1-3fda9b7abe1a"
      },
      "outputs": [
        {
          "output_type": "stream",
          "name": "stdout",
          "text": [
            "NOT(0) = 1\n",
            "NOT(1) = 0\n"
          ]
        }
      ],
      "source": [
        "class PerceptronNOT:\n",
        "\n",
        "    def __init__(self):\n",
        "        self.w0 = 0.5\n",
        "        self.w1 = -1\n",
        "\n",
        "    def decision_function(self, z):\n",
        "        return 1 if z >= 0 else 0\n",
        "\n",
        "    def forward(self, x1):\n",
        "        z = self.w0 + self.w1 * x1\n",
        "        phi_z = self.decision_function(z)\n",
        "        return phi_z\n",
        "\n",
        "\n",
        "model = PerceptronNOT()\n",
        "for x1 in [0, 1]:\n",
        "    print(f\"NOT({x1}) = {model.forward(x1)}\")"
      ]
    },
    {
      "cell_type": "markdown",
      "id": "d9464635",
      "metadata": {
        "id": "d9464635"
      },
      "source": [
        "## 2. `AND` Operator"
      ]
    },
    {
      "cell_type": "code",
      "execution_count": 2,
      "id": "d7819474",
      "metadata": {
        "colab": {
          "base_uri": "https://localhost:8080/"
        },
        "id": "d7819474",
        "outputId": "12ac7293-418c-41a8-d21a-260d128ccf48"
      },
      "outputs": [
        {
          "output_type": "stream",
          "name": "stdout",
          "text": [
            "AND(0,0) = 0\n",
            "AND(0,1) = 0\n",
            "AND(1,0) = 0\n",
            "AND(1,1) = 1\n"
          ]
        }
      ],
      "source": [
        "# Your code here:\n",
        "class PerceptronAND:\n",
        "    def __init__(self):\n",
        "      self.w0 = -1.5\n",
        "      self.w1 = 1\n",
        "      self.w2 = 1\n",
        "\n",
        "    def decision_function(self, z):\n",
        "      return 1 if z >= 0 else 0\n",
        "    \n",
        "    def forward(self, x1, x2):\n",
        "      z = self.w0 + self.w1*x1 + self.w2*x2\n",
        "      phi_z = self.decision_function(z)\n",
        "      return phi_z\n",
        "\n",
        "model = PerceptronAND()\n",
        "for x1,x2 in [(0,0), (0,1), (1,0), (1,1)]:\n",
        "  print(f\"AND({x1},{x2}) = {model.forward(x1,x2)}\")\n"
      ]
    },
    {
      "cell_type": "markdown",
      "id": "bf1c124c",
      "metadata": {
        "id": "bf1c124c"
      },
      "source": [
        "## 3. `OR` Operator"
      ]
    },
    {
      "cell_type": "code",
      "execution_count": 4,
      "id": "1475e475",
      "metadata": {
        "colab": {
          "base_uri": "https://localhost:8080/"
        },
        "id": "1475e475",
        "outputId": "ae3bc3c2-3f10-469b-a1f8-21b57536fe3e"
      },
      "outputs": [
        {
          "output_type": "stream",
          "name": "stdout",
          "text": [
            "OR(0,0) = 0\n",
            "OR(0,1) = 1\n",
            "OR(1,0) = 1\n",
            "OR(1,1) = 1\n"
          ]
        }
      ],
      "source": [
        "# Your code here:\n",
        "class PerceptronOR:\n",
        "  def __init__(self):\n",
        "    self.w0 = -0.5\n",
        "    self.w1 = 1\n",
        "    self.w2 = 1\n",
        "  \n",
        "  def decision_function(self, z):\n",
        "      return 1 if z >= 0 else 0\n",
        "    \n",
        "  def forward(self, x1, x2):\n",
        "    z = self.w0 + self.w1*x1 + self.w2*x2\n",
        "    phi_z = self.decision_function(z)\n",
        "    return phi_z\n",
        "\n",
        "model = PerceptronOR()\n",
        "for x1,x2 in [(0,0), (0,1), (1,0), (1,1)]:\n",
        "  print(f\"OR({x1},{x2}) = {model.forward(x1,x2)}\")"
      ]
    },
    {
      "cell_type": "markdown",
      "id": "b1cc85f1",
      "metadata": {
        "id": "b1cc85f1"
      },
      "source": [
        "## 4. `NAND` Operator"
      ]
    },
    {
      "cell_type": "code",
      "execution_count": 5,
      "id": "ce1b3b91",
      "metadata": {
        "colab": {
          "base_uri": "https://localhost:8080/"
        },
        "id": "ce1b3b91",
        "outputId": "713dd740-e622-45d6-eda6-feb55819ec53"
      },
      "outputs": [
        {
          "output_type": "stream",
          "name": "stdout",
          "text": [
            "NAND(0,0) = 1\n",
            "NAND(0,1) = 1\n",
            "NAND(1,0) = 1\n",
            "NAND(1,1) = 0\n"
          ]
        }
      ],
      "source": [
        "# Your code here:\n",
        "class PerceptronNAND:\n",
        "  def __init__(self):\n",
        "    self.w0 = 1.5\n",
        "    self.w1 = -1\n",
        "    self.w2 = -1\n",
        "  \n",
        "  def decision_function(self, z):\n",
        "      return 1 if z >= 0 else 0\n",
        "    \n",
        "  def forward(self, x1, x2):\n",
        "    z = self.w0 + self.w1*x1 + self.w2*x2\n",
        "    phi_z = self.decision_function(z)\n",
        "    return phi_z\n",
        "\n",
        "model = PerceptronNAND()\n",
        "for x1,x2 in [(0,0), (0,1), (1,0), (1,1)]:\n",
        "  print(f\"NAND({x1},{x2}) = {model.forward(x1,x2)}\")"
      ]
    },
    {
      "cell_type": "markdown",
      "id": "06d7a2af",
      "metadata": {
        "id": "06d7a2af"
      },
      "source": [
        "## 5. `NOR` Operator"
      ]
    },
    {
      "cell_type": "code",
      "execution_count": 6,
      "id": "5be34b2a",
      "metadata": {
        "colab": {
          "base_uri": "https://localhost:8080/"
        },
        "id": "5be34b2a",
        "outputId": "54834ea6-5616-48a3-a06c-00e0173c5ff1"
      },
      "outputs": [
        {
          "output_type": "stream",
          "name": "stdout",
          "text": [
            "NOR(0,0) = 1\n",
            "NOR(0,1) = 0\n",
            "NOR(1,0) = 0\n",
            "NOR(1,1) = 0\n"
          ]
        }
      ],
      "source": [
        "# Your code here:\n",
        "class PerceptronNOR:\n",
        "  def __init__(self):\n",
        "    self.w0 = 0.5\n",
        "    self.w1 = -1\n",
        "    self.w2 = -1\n",
        "  \n",
        "  def decision_function(self, z):\n",
        "      return 1 if z >= 0 else 0\n",
        "    \n",
        "  def forward(self, x1, x2):\n",
        "    z = self.w0 + self.w1*x1 + self.w2*x2\n",
        "    phi_z = self.decision_function(z)\n",
        "    return phi_z\n",
        "\n",
        "model = PerceptronNOR()\n",
        "for x1,x2 in [(0,0), (0,1), (1,0), (1,1)]:\n",
        "  print(f\"NOR({x1},{x2}) = {model.forward(x1,x2)}\")"
      ]
    }
  ],
  "metadata": {
    "kernelspec": {
      "display_name": "Python 3.6.8 64-bit",
      "language": "python",
      "name": "python3"
    },
    "language_info": {
      "codemirror_mode": {
        "name": "ipython",
        "version": 3
      },
      "file_extension": ".py",
      "mimetype": "text/x-python",
      "name": "python",
      "nbconvert_exporter": "python",
      "pygments_lexer": "ipython3",
      "version": "3.6.8"
    },
    "vscode": {
      "interpreter": {
        "hash": "31f2aee4e71d21fbe5cf8b01ff0e069b9275f58929596ceb00d14d90e3e16cd6"
      }
    },
    "colab": {
      "provenance": [],
      "collapsed_sections": []
    }
  },
  "nbformat": 4,
  "nbformat_minor": 5
}